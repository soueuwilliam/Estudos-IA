{
  "nbformat": 4,
  "nbformat_minor": 0,
  "metadata": {
    "colab": {
      "provenance": [],
      "authorship_tag": "ABX9TyPwjxKZyDA5V2nSJAHHzco4",
      "include_colab_link": true
    },
    "kernelspec": {
      "name": "python3",
      "display_name": "Python 3"
    },
    "language_info": {
      "name": "python"
    }
  },
  "cells": [
    {
      "cell_type": "markdown",
      "metadata": {
        "id": "view-in-github",
        "colab_type": "text"
      },
      "source": [
        "<a href=\"https://colab.research.google.com/github/soueuwilliam/Estudos-IA/blob/main/Universo_Discreto/Machine_Learning/ML02_Vari%C3%A1veis_Categ%C3%B3ricas_e_Separa%C3%A7%C3%A3o_em_Teste_e_Treino.ipynb\" target=\"_parent\"><img src=\"https://colab.research.google.com/assets/colab-badge.svg\" alt=\"Open In Colab\"/></a>"
      ]
    },
    {
      "cell_type": "markdown",
      "source": [
        "# importando bibliotecas"
      ],
      "metadata": {
        "id": "OX4eqT-ExRGg"
      }
    },
    {
      "cell_type": "code",
      "execution_count": 23,
      "metadata": {
        "id": "CB0iXZSgv5G3"
      },
      "outputs": [],
      "source": [
        "import numpy as np\n",
        "import pandas as pd\n",
        "from sklearn.impute import SimpleImputer"
      ]
    },
    {
      "cell_type": "markdown",
      "source": [
        "# Baixando base de dados e preenchendendo dados faltantes"
      ],
      "metadata": {
        "id": "FrshHxmUxa8q"
      }
    },
    {
      "cell_type": "code",
      "source": [
        "baseDeDados = pd.read_csv('https://raw.githubusercontent.com/lucaslattari/MachineLearningSeries/master/Ep%202/admission.csv',delimiter=';')\n",
        "x = baseDeDados.iloc[:,:-1].values\n",
        "y = baseDeDados.iloc[:,-1].values\n",
        "\n",
        "imputer = SimpleImputer(missing_values=np.nan, strategy='median')\n",
        "imputer = imputer.fit_transform(x[:,1:])"
      ],
      "metadata": {
        "id": "PML0aGUgxaaG"
      },
      "execution_count": 29,
      "outputs": []
    },
    {
      "cell_type": "markdown",
      "source": [
        "## Label Enconder"
      ],
      "metadata": {
        "id": "7038yBFeTa6K"
      }
    },
    {
      "cell_type": "code",
      "source": [
        "from sklearn.preprocessing import LabelEncoder\n",
        "\n",
        "labelenconder_x = LabelEncoder()\n",
        "x[:, 0] = labelenconder_x.fit_transform(x[:, 0])\n",
        "print(x)"
      ],
      "metadata": {
        "colab": {
          "base_uri": "https://localhost:8080/"
        },
        "id": "Ir9BwzGRTlR9",
        "outputId": "4b9980ab-263b-4545-e943-608f2b36c5cc"
      },
      "execution_count": 30,
      "outputs": [
        {
          "output_type": "stream",
          "name": "stdout",
          "text": [
            "[[6 337 118 4 4.5 4.5 9.65 1]\n",
            " [0 324 107 4 4.0 4.5 8.87 1]\n",
            " [5 316 104 3 3.0 3.5 8.0 1]\n",
            " [1 322 110 3 3.5 2.5 8.67 1]\n",
            " [8 314 103 2 2.0 3.0 8.21 0]\n",
            " [4 330 115 5 4.5 3.0 9.34 1]\n",
            " [3 321 109 3 3.0 4.0 8.2 1]\n",
            " [2 308 101 2 3.0 4.0 7.9 0]\n",
            " [7 302 102 1 2.0 1.5 8.0 0]]\n"
          ]
        }
      ]
    },
    {
      "cell_type": "markdown",
      "source": [
        "##One hot Encoding"
      ],
      "metadata": {
        "id": "VLuQLT9pZlv-"
      }
    },
    {
      "cell_type": "code",
      "source": [
        "x = x[:, 1:]\n",
        "d = pd.get_dummies(x[:,0])\n",
        "x = np.insert(x, 0, d.values, axis=1)\n",
        "print(x)"
      ],
      "metadata": {
        "colab": {
          "base_uri": "https://localhost:8080/"
        },
        "id": "y9vY5-cbW7UQ",
        "outputId": "7d98da80-7bc9-4d90-c0a8-02135133adb7"
      },
      "execution_count": 31,
      "outputs": [
        {
          "output_type": "stream",
          "name": "stdout",
          "text": [
            "[[False False False False False False False False True 337 118 4 4.5 4.5\n",
            "  9.65 1]\n",
            " [False False False False False False False True False 324 107 4 4.0 4.5\n",
            "  8.87 1]\n",
            " [False False False False True False False False False 316 104 3 3.0 3.5\n",
            "  8.0 1]\n",
            " [False False True False False False False False False 322 110 3 3.5 2.5\n",
            "  8.67 1]\n",
            " [False False False False False False True False False 314 103 2 2.0 3.0\n",
            "  8.21 0]\n",
            " [False False False True False False False False False 330 115 5 4.5 3.0\n",
            "  9.34 1]\n",
            " [False True False False False False False False False 321 109 3 3.0 4.0\n",
            "  8.2 1]\n",
            " [False False False False False True False False False 308 101 2 3.0 4.0\n",
            "  7.9 0]\n",
            " [True False False False False False False False False 302 102 1 2.0 1.5\n",
            "  8.0 0]]\n"
          ]
        }
      ]
    },
    {
      "cell_type": "markdown",
      "source": [
        "## Separando Treino e Teste"
      ],
      "metadata": {
        "id": "oS2M6Xy9Z3DB"
      }
    },
    {
      "cell_type": "code",
      "source": [
        "from sklearn.model_selection import  train_test_split\n",
        "\n",
        "xTrain, xTest, yTrain, yTest = train_test_split(x , y, test_size = 0.2)\n"
      ],
      "metadata": {
        "colab": {
          "base_uri": "https://localhost:8080/"
        },
        "id": "RY_voVfEZ0fS",
        "outputId": "4e4083dc-92ae-4405-da80-0b6a1cf8a5d5"
      },
      "execution_count": 32,
      "outputs": [
        {
          "output_type": "stream",
          "name": "stdout",
          "text": [
            "[[False False False False False False True False False 314 103 2 2.0 3.0\n",
            "  8.21 0]\n",
            " [False False False False False True False False False 308 101 2 3.0 4.0\n",
            "  7.9 0]\n",
            " [False True False False False False False False False 321 109 3 3.0 4.0\n",
            "  8.2 1]\n",
            " [False False False False False False False True False 324 107 4 4.0 4.5\n",
            "  8.87 1]\n",
            " [True False False False False False False False False 302 102 1 2.0 1.5\n",
            "  8.0 0]\n",
            " [False False False False True False False False False 316 104 3 3.0 3.5\n",
            "  8.0 1]\n",
            " [False False True False False False False False False 322 110 3 3.5 2.5\n",
            "  8.67 1]]\n"
          ]
        }
      ]
    }
  ]
}