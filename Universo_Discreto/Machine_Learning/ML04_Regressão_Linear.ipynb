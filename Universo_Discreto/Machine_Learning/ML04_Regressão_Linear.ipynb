{
  "nbformat": 4,
  "nbformat_minor": 0,
  "metadata": {
    "colab": {
      "provenance": [],
      "toc_visible": true,
      "authorship_tag": "ABX9TyOQ1BRnukyU9FVc+rceN0t5",
      "include_colab_link": true
    },
    "kernelspec": {
      "name": "python3",
      "display_name": "Python 3"
    },
    "language_info": {
      "name": "python"
    }
  },
  "cells": [
    {
      "cell_type": "markdown",
      "metadata": {
        "id": "view-in-github",
        "colab_type": "text"
      },
      "source": [
        "<a href=\"https://colab.research.google.com/github/soueuwilliam/Estudos-IA/blob/main/Universo_Discreto/Machine_Learning/ML04_Regress%C3%A3o_Linear.ipynb\" target=\"_parent\"><img src=\"https://colab.research.google.com/assets/colab-badge.svg\" alt=\"Open In Colab\"/></a>"
      ]
    },
    {
      "cell_type": "markdown",
      "source": [
        "#Teoria"
      ],
      "metadata": {
        "id": "GIw_wlbI2Jvd"
      }
    },
    {
      "cell_type": "markdown",
      "source": [
        "#Prática"
      ],
      "metadata": {
        "id": "Kz9Ej2pL2QWC"
      }
    },
    {
      "cell_type": "markdown",
      "source": [
        "## Importando Bibliotecas"
      ],
      "metadata": {
        "id": "I7ForGcGooBv"
      }
    },
    {
      "cell_type": "code",
      "execution_count": null,
      "metadata": {
        "id": "I-EW4_iVn-4g"
      },
      "outputs": [],
      "source": [
        "import numpy as np\n",
        "import pandas as pd"
      ]
    },
    {
      "cell_type": "markdown",
      "source": [
        "# importando funções"
      ],
      "metadata": {
        "id": "GECYgWb1o2uh"
      }
    },
    {
      "cell_type": "markdown",
      "source": [
        "## Carregar dataSet"
      ],
      "metadata": {
        "id": "bRSIJtEZta4d"
      }
    },
    {
      "cell_type": "code",
      "source": [
        "def load_dataset(file_name):\n",
        "  baseDeDados = pd.read_csv(file_name, delimiter=';')\n",
        "  #Separando variaveis indepentente\n",
        "  x = baseDeDados.iloc[:,:-1].values\n",
        "  #Separando variaveis Dependentes(o que eu quero prevê)\n",
        "  y = baseDeDados.iloc[:,-1].values\n",
        "  return x,y"
      ],
      "metadata": {
        "id": "d-ApEPAYpE8I"
      },
      "execution_count": null,
      "outputs": []
    },
    {
      "cell_type": "markdown",
      "source": [
        "## Preencher dados faltantes"
      ],
      "metadata": {
        "id": "s9GKVE1xtdMW"
      }
    },
    {
      "cell_type": "code",
      "source": [
        "def fill_missing_data(X):\n",
        "  from sklearn.impute import SimpleImputer\n",
        "  imputer = SimpleImputer(missing_values=np.nan, strategy='median')\n",
        "  X[:,1:] = imputer.fit_transform(X[:,1:])\n",
        "  return X"
      ],
      "metadata": {
        "id": "Q9g2XGGEtnVF"
      },
      "execution_count": null,
      "outputs": []
    },
    {
      "cell_type": "markdown",
      "source": [
        "## Categorização dos dados não numericos"
      ],
      "metadata": {
        "id": "Xl7ZMguwv0p9"
      }
    },
    {
      "cell_type": "code",
      "source": [
        "def computer_categoration(X):\n",
        "  from sklearn.preprocessing import LabelEncoder\n",
        "  #Label encoding\n",
        "  labelenconder_x = LabelEncoder()\n",
        "  X[:, 0] = labelenconder_x.fit_transform(X[:, 0])\n",
        "\n",
        "  #One hot encoding\n",
        "  D = pd.get_dummies(X[:,0])\n",
        "  X = X[:, 1:]\n",
        "  X = np.insert(X, 0, D.values, axis=1)\n",
        "  return X\n",
        ""
      ],
      "metadata": {
        "id": "5l8AfUlXvyRH"
      },
      "execution_count": null,
      "outputs": []
    },
    {
      "cell_type": "markdown",
      "source": [
        "## Divisão de de dados Treino x Teste"
      ],
      "metadata": {
        "id": "AM-Yd-dixROj"
      }
    },
    {
      "cell_type": "code",
      "source": [
        "def split_train_test_sets(X,y, testsize):\n",
        "  from sklearn.model_selection import  train_test_split\n",
        "  xTrain, xTest, yTrain, yTest = train_test_split(X , y, test_size = testsize)\n",
        "  return xTrain, xTest, yTrain, yTest"
      ],
      "metadata": {
        "id": "YvRcmjdoxdRD"
      },
      "execution_count": null,
      "outputs": []
    },
    {
      "cell_type": "markdown",
      "source": [
        "## Normalização de dados\n"
      ],
      "metadata": {
        "id": "BOOFYXoJydbl"
      }
    },
    {
      "cell_type": "code",
      "source": [
        "def computer_Scaling(train,test):\n",
        "  from sklearn.preprocessing import StandardScaler\n",
        "  Scalerx = StandardScaler()\n",
        "  train = Scalerx.fit_transform(train)\n",
        "  teste = Scalerx.fit_transform(test)\n",
        "  return train, test"
      ],
      "metadata": {
        "id": "3X4F6OsryghQ"
      },
      "execution_count": null,
      "outputs": []
    },
    {
      "cell_type": "code",
      "source": [
        "def computerLinearModel(xTrain, xTest, yTrain, yTest):\n",
        "  from sklearn.linear_model import LinearRegression\n",
        "  regressor = LinearRegression()\n",
        "  regressor.fit(xTrain,yTrain)\n",
        "  YPred = regressor.predict(xTest,yTest)\n",
        "  print(Ytest,YPred)"
      ],
      "metadata": {
        "id": "03OwX4-F2Idk"
      },
      "execution_count": null,
      "outputs": []
    },
    {
      "cell_type": "code",
      "source": [
        "def runLinearRegressionExample(filename):\n",
        "  X,y = load_dataset(filename)\n",
        "  X = fill_missing_data(X)\n",
        "  X = computer_categoration(X)\n",
        "  xTrain, xTest, yTrain, yTest = split_train_test_sets(X,y, 0.2)\n",
        "  computerLinearModel(xTrain, xTest, yTrain, yTest)"
      ],
      "metadata": {
        "id": "WBKOILEG0ALd"
      },
      "execution_count": null,
      "outputs": []
    },
    {
      "cell_type": "markdown",
      "source": [
        "#Código principal"
      ],
      "metadata": {
        "id": "h2g-cmfO1EJN"
      }
    },
    {
      "cell_type": "code",
      "source": [
        "if __name__ == \"__main__\":\n",
        "  runLinearRegressionExample(\"https://raw.githubusercontent.com/lucaslattari/MachineLearningSeries/master/Ep%201/svbr.csv\")"
      ],
      "metadata": {
        "id": "TLgod-ioz4bo"
      },
      "execution_count": null,
      "outputs": []
    }
  ]
}